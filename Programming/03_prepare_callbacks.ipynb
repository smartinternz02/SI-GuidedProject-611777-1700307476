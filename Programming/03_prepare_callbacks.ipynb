{
 "cells": [
  {
   "cell_type": "code",
   "execution_count": 1,
   "metadata": {},
   "outputs": [],
   "source": [
    "import os\n",
    "import sys \n",
    "import urllib.request as request \n",
    "import tensorflow as tf \n",
    "import time \n",
    "from dataclasses import dataclass\n",
    "from pathlib import Path\n",
    "from poxVisionDetection import logging,CustomException\n",
    "from poxVisionDetection.constants import *\n",
    "from poxVisionDetection.utils.common import read_yaml,create_directory"
   ]
  },
  {
   "cell_type": "code",
   "execution_count": 2,
   "metadata": {},
   "outputs": [],
   "source": [
    "# os.chdir('d:\\\\codes\\\\DeepLearning_Proj\\\\poxVision_detection\\\\research')"
   ]
  },
  {
   "cell_type": "code",
   "execution_count": 3,
   "metadata": {},
   "outputs": [
    {
     "data": {
      "text/plain": [
       "'d:\\\\codes\\\\DeepLearning_Proj\\\\poxVision_detection'"
      ]
     },
     "execution_count": 3,
     "metadata": {},
     "output_type": "execute_result"
    }
   ],
   "source": [
    "os.chdir('../')\n",
    "%pwd"
   ]
  },
  {
   "cell_type": "code",
   "execution_count": 50,
   "metadata": {},
   "outputs": [],
   "source": [
    "@dataclass(frozen = True)\n",
    "class PrepareCallbacksConfig:\n",
    "    root_dir                   : Path\n",
    "    tensorboard_root_log_dir   : Path\n",
    "    checkpoint_model_filepath  : Path"
   ]
  },
  {
   "cell_type": "code",
   "execution_count": 51,
   "metadata": {},
   "outputs": [],
   "source": [
    "class ConfigurationManager:\n",
    "    def __init__(\n",
    "            self,\n",
    "            config_filepath = CONFIG_FILE_PATH,\n",
    "            params_filepath = PARAMS_FILE_PATH):\n",
    "\n",
    "        self.config = read_yaml(config_filepath)\n",
    "        self.params = read_yaml(params_filepath)\n",
    "\n",
    "        create_directory([self.config.artifacts_root])\n",
    "\n",
    "    def get_prepare_callback_config(self) -> PrepareCallbacksConfig:\n",
    "        config           = self.config.prepare_callbacks\n",
    "        model_ckpt_dir   = os.path.dirname(config.checkpoint_model_filepath)\n",
    "\n",
    "        create_directory([\n",
    "            Path(model_ckpt_dir),\n",
    "            Path(config.tensorboard_root_log_dir)\n",
    "        ])\n",
    "\n",
    "        prepare_callback_config        = PrepareCallbacksConfig(\n",
    "            root_dir                   = Path(config.root_dir),\n",
    "            tensorboard_root_log_dir   = Path(config.tensorboard_root_log_dir),\n",
    "            checkpoint_model_filepath  = Path(config.checkpoint_model_filepath)\n",
    "        )\n",
    "\n",
    "        return prepare_callback_config"
   ]
  },
  {
   "cell_type": "code",
   "execution_count": 52,
   "metadata": {},
   "outputs": [],
   "source": [
    "class PrepareCallback:\n",
    "    def __init__(self, config : PrepareCallbacksConfig):\n",
    "        self.config = config\n",
    "\n",
    "    @property\n",
    "    def _create_tb_callbacks(self):\n",
    "        timestamp = time.strftime('%y-%m-%d-%H-%M-%S')\n",
    "\n",
    "        tb_running_log_dir = os.path.join(\n",
    "            self.config.tensorboard_root_log_dir,\n",
    "            f'tb_logs_at_{timestamp}'\n",
    "        )\n",
    "\n",
    "        return tf.keras.callbacks.TensorBoard(log_dir = tb_running_log_dir)\n",
    "    \n",
    "    @property\n",
    "    def _create_ckpt_callbacks(self):\n",
    "        return tf.keras.callbacks.ModelCheckpoint(\n",
    "            filepath = self.config.checkpoint_model_filepath,\n",
    "            save_best_only = True\n",
    "        )\n",
    "\n",
    "    # ckpt - checkpoint\n",
    "    def get_tb_ckpt_callback(self):\n",
    "        return [\n",
    "            self._create_tb_callbacks,\n",
    "            self._create_ckpt_callbacks\n",
    "        ]"
   ]
  },
  {
   "cell_type": "markdown",
   "metadata": {},
   "source": [
    "CREATING THE PIPELINE"
   ]
  },
  {
   "cell_type": "code",
   "execution_count": 53,
   "metadata": {},
   "outputs": [
    {
     "name": "stdout",
     "output_type": "stream",
     "text": [
      "[2023-11-11 02:33:07,453] 31 root - INFO - YAML FILE {path_to_yaml} LOADED SUCCESSFULLY \n",
      "[2023-11-11 02:33:07,455] 31 root - INFO - YAML FILE {path_to_yaml} LOADED SUCCESSFULLY \n",
      "[2023-11-11 02:33:07,456] 47 root - INFO - CREATED DIRECTORY AT : artifacts\n",
      "[2023-11-11 02:33:07,457] 47 root - INFO - CREATED DIRECTORY AT : artifacts\\prepare_callbacks\\checkpoint_dir\n",
      "[2023-11-11 02:33:07,458] 47 root - INFO - CREATED DIRECTORY AT : artifacts\\prepare_callbacks\\tensorflow_log_dir\n"
     ]
    }
   ],
   "source": [
    "try:\n",
    "    config                    = ConfigurationManager()\n",
    "    prepare_callbacks_config  = config.get_prepare_callback_config()\n",
    "    prepare_callbacks         = PrepareCallback(config = prepare_callbacks_config)\n",
    "    callback_list             = prepare_callbacks.get_tb_ckpt_callback()\n",
    "\n",
    "except Exception as e:\n",
    "    CustomException(e,sys)"
   ]
  }
 ],
 "metadata": {
  "kernelspec": {
   "display_name": "poxvision_ven",
   "language": "python",
   "name": "python3"
  },
  "language_info": {
   "codemirror_mode": {
    "name": "ipython",
    "version": 3
   },
   "file_extension": ".py",
   "mimetype": "text/x-python",
   "name": "python",
   "nbconvert_exporter": "python",
   "pygments_lexer": "ipython3",
   "version": "3.11.4"
  }
 },
 "nbformat": 4,
 "nbformat_minor": 2
}
