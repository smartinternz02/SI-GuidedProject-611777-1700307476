{
 "cells": [
  {
   "cell_type": "code",
   "execution_count": 1,
   "metadata": {},
   "outputs": [],
   "source": [
    "import os \n",
    "import sys\n",
    "from dataclasses import dataclass\n",
    "from pathlib import Path\n",
    "from poxVisionDetection import logging,CustomException\n",
    "import urllib.request as request\n",
    "import zipfile"
   ]
  },
  {
   "cell_type": "code",
   "execution_count": 3,
   "metadata": {},
   "outputs": [
    {
     "name": "stdout",
     "output_type": "stream",
     "text": [
      "d:\\codes\\DeepLearning_Proj\\poxVision_detection\\research\n"
     ]
    }
   ],
   "source": [
    "# os.chdir('d:\\\\codes\\\\DeepLearning_Proj\\\\poxVision_detection\\\\research')\n",
    "curr_working_dir = os.getcwd()\n",
    "print(curr_working_dir)"
   ]
  },
  {
   "cell_type": "markdown",
   "metadata": {},
   "source": [
    "MOVING ONE LEVEL UP"
   ]
  },
  {
   "cell_type": "code",
   "execution_count": 4,
   "metadata": {},
   "outputs": [
    {
     "data": {
      "text/plain": [
       "'d:\\\\codes\\\\DeepLearning_Proj\\\\poxVision_detection'"
      ]
     },
     "execution_count": 4,
     "metadata": {},
     "output_type": "execute_result"
    }
   ],
   "source": [
    "os.chdir('../')\n",
    "%pwd"
   ]
  },
  {
   "cell_type": "code",
   "execution_count": 10,
   "metadata": {},
   "outputs": [],
   "source": [
    "@dataclass(frozen = True)\n",
    "class DataIngestionConfig: # BELOW ARE THE RETURN TYPES \n",
    "    root_dir                : Path\n",
    "    source_url              : str\n",
    "    local_data_file         : Path\n",
    "    unzip_dir               : Path"
   ]
  },
  {
   "cell_type": "code",
   "execution_count": 11,
   "metadata": {},
   "outputs": [],
   "source": [
    "from poxVisionDetection.constants import *\n",
    "from poxVisionDetection.utils.common import read_yaml,create_directory,get_size"
   ]
  },
  {
   "cell_type": "code",
   "execution_count": 12,
   "metadata": {},
   "outputs": [],
   "source": [
    "class ConfigurationManager:\n",
    "    def __init__(\n",
    "            self,\n",
    "            config_filepath = CONFIG_FILE_PATH,\n",
    "            params_filepath = PARAMS_FILE_PATH):\n",
    "        \n",
    "        self.config = read_yaml(config_filepath)\n",
    "        self.params = read_yaml(params_filepath)\n",
    "\n",
    "        create_directory([self.config.artifacts_root])  # THIS WILL CREATE THE PARENT DIRECTORY artifacts \n",
    "                                                        # WHERE ALL THE DATA RELATED FOLDERS WILL BE PRESENT\n",
    "\n",
    "    def get_data_ingestion_config(self) -> DataIngestionConfig:\n",
    "        '''\n",
    "            Will get all the data_ingestion related configuration form the config file \n",
    "        '''\n",
    "        config = self.config.data_ingestion\n",
    "\n",
    "        create_directory([config.root_dir])\n",
    "\n",
    "        data_ingestion_config = DataIngestionConfig(\n",
    "            root_dir            = config.root_dir,\n",
    "            source_url          = config.source_url,\n",
    "            local_data_file     = config.local_data_file,\n",
    "            unzip_dir           = config.unzip_dir\n",
    "        )\n",
    "\n",
    "        return data_ingestion_config"
   ]
  },
  {
   "cell_type": "code",
   "execution_count": 13,
   "metadata": {},
   "outputs": [],
   "source": [
    "class DataIngestion:\n",
    "    def __init__(self, config : DataIngestionConfig):\n",
    "        self.config = config\n",
    "\n",
    "    def download_file(self):\n",
    "        '''\n",
    "            will get the dataset for the remote git hub link provided\n",
    "            \n",
    "            Create local_file_folder where the file will be stored in .zip\n",
    "        '''\n",
    "        if not os.path.exists(self.config.local_data_file):\n",
    "            filename, header = request.urlretrieve(\n",
    "                url       = self.config.source_url,              # THE LINK WHERE THE FILE IS AVAILABLE IN THE GIT HUB\n",
    "                filename  = self.config.local_data_file          # THE LOCAL PATH WHERE THE FILE WILL BE SAVED \n",
    "            )\n",
    "            logging.info(f'{filename} DOWNLOADED WILL THE FOLLOWING INFO : {header}')\n",
    "        else:\n",
    "            logging.info(f'THE FILE ALREDY EXISTS OF SIZE : {get_size(Path(self.config.local_data_file))}')\n",
    "\n",
    "    def extract_zip_file(self):\n",
    "        ''' \n",
    "            zip_file_path  : str\n",
    "            Extract the zip file into the data directory \n",
    "            function returns None\n",
    "        '''\n",
    "        unzip_path = self.config.unzip_dir\n",
    "        os.makedirs(unzip_path , exist_ok = True)\n",
    "        with zipfile.ZipFile(self.config.local_data_file , 'r') as zip_file:\n",
    "            zip_file.extractall(unzip_path)\n"
   ]
  },
  {
   "cell_type": "code",
   "execution_count": 15,
   "metadata": {},
   "outputs": [
    {
     "name": "stdout",
     "output_type": "stream",
     "text": [
      "[2023-11-09 14:44:28,690] 31 root - INFO - YAML FILE {path_to_yaml} LOADED SUCCESSFULLY \n",
      "[2023-11-09 14:44:28,692] 31 root - INFO - YAML FILE {path_to_yaml} LOADED SUCCESSFULLY \n",
      "[2023-11-09 14:44:28,693] 47 root - INFO - CREATED DIRECTORY AT : artifacts\n",
      "[2023-11-09 14:44:28,695] 47 root - INFO - CREATED DIRECTORY AT : artifacts/data_ingestion\n",
      "[2023-11-09 14:44:28,697] 18 root - INFO - THE FILE ALREDY EXISTS OF SIZE : ~ 1462 KB\n"
     ]
    }
   ],
   "source": [
    "try:\n",
    "    config                         = ConfigurationManager()\n",
    "    data_ingestion_config          = config.get_data_ingestion_config()\n",
    "    data_ingestion                 = DataIngestion(config = data_ingestion_config)\n",
    "    data_ingestion.download_file()\n",
    "    data_ingestion.extract_zip_file()\n",
    "except Exception as e:\n",
    "    CustomException(e,sys)"
   ]
  },
  {
   "cell_type": "code",
   "execution_count": null,
   "metadata": {},
   "outputs": [],
   "source": []
  },
  {
   "cell_type": "code",
   "execution_count": null,
   "metadata": {},
   "outputs": [],
   "source": []
  },
  {
   "cell_type": "code",
   "execution_count": null,
   "metadata": {},
   "outputs": [],
   "source": []
  }
 ],
 "metadata": {
  "kernelspec": {
   "display_name": "poxvision_ven",
   "language": "python",
   "name": "python3"
  },
  "language_info": {
   "codemirror_mode": {
    "name": "ipython",
    "version": 3
   },
   "file_extension": ".py",
   "mimetype": "text/x-python",
   "name": "python",
   "nbconvert_exporter": "python",
   "pygments_lexer": "ipython3",
   "version": "3.11.4"
  }
 },
 "nbformat": 4,
 "nbformat_minor": 2
}
