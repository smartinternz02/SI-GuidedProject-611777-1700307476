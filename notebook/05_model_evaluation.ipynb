{
 "cells": [
  {
   "cell_type": "code",
   "execution_count": 1,
   "metadata": {},
   "outputs": [],
   "source": [
    "import os\n",
    "import sys \n",
    "import tensorflow as tf\n",
    "from dataclasses import dataclass\n",
    "from pathlib import Path\n",
    "from poxVisionDetection.constants import *\n",
    "from poxVisionDetection.utils.common import read_yaml, create_directory, save_json\n",
    "from tensorflow.keras.applications.resnet50 import preprocess_input\n",
    "from poxVisionDetection import CustomException, logging\n",
    "from urllib.parse import urlparse"
   ]
  },
  {
   "cell_type": "code",
   "execution_count": 6,
   "metadata": {},
   "outputs": [],
   "source": [
    "# os.chdir('d:\\\\codes\\\\DeepLearning_Proj\\\\poxVision_detection\\\\research')"
   ]
  },
  {
   "cell_type": "code",
   "execution_count": 2,
   "metadata": {},
   "outputs": [
    {
     "data": {
      "text/plain": [
       "'d:\\\\codes\\\\DeepLearning_Proj\\\\poxVision_detection'"
      ]
     },
     "execution_count": 2,
     "metadata": {},
     "output_type": "execute_result"
    }
   ],
   "source": [
    "os.chdir('../')\n",
    "%pwd"
   ]
  },
  {
   "cell_type": "markdown",
   "metadata": {},
   "source": [
    "CHECKING IF THE MODEL EXISTS"
   ]
  },
  {
   "cell_type": "code",
   "execution_count": 3,
   "metadata": {},
   "outputs": [],
   "source": [
    "model = tf.keras.models.load_model('artifacts/training/model.h5')"
   ]
  },
  {
   "cell_type": "code",
   "execution_count": 4,
   "metadata": {},
   "outputs": [],
   "source": [
    "@dataclass(frozen = True)\n",
    "class EvaluationConfig:\n",
    "    path_of_model          : Path\n",
    "    training_data          : Path\n",
    "    all_params             : dict\n",
    "    params_image_size      : list \n",
    "    params_batch_size      : int"
   ]
  },
  {
   "cell_type": "code",
   "execution_count": 5,
   "metadata": {},
   "outputs": [],
   "source": [
    "class ConfigurationManager:\n",
    "    def __init__(\n",
    "            self,\n",
    "            config_filepath   = CONFIG_FILE_PATH,\n",
    "            params_filepath     = PARAMS_FILE_PATH):\n",
    "\n",
    "        self.config = read_yaml(config_filepath)\n",
    "        self.params = read_yaml(params_filepath)\n",
    "\n",
    "        create_directory([self.config.artifacts_root])\n",
    "\n",
    "    def get_validation_config(self) -> EvaluationConfig:\n",
    "        eval_config = EvaluationConfig(\n",
    "            path_of_model     = \"artifacts/training/model.h5\",\n",
    "            training_data     = \"artifacts/data_ingestion/poxVisionDataSet\",\n",
    "            all_params        = self.params,\n",
    "            params_image_size = self.params.IMAGE_SIZE,\n",
    "            params_batch_size = self.params.BATCH_SIZE\n",
    "        )\n",
    "\n",
    "        return eval_config"
   ]
  },
  {
   "cell_type": "code",
   "execution_count": 6,
   "metadata": {},
   "outputs": [],
   "source": [
    "class Evaluation:\n",
    "    def __init__(self,config : EvaluationConfig):\n",
    "        self.config = config\n",
    "\n",
    "    def _valid_generator(self):\n",
    "        valid_datagenerator         = tf.keras.preprocessing.image.ImageDataGenerator(\n",
    "            preprocessing_function     = preprocess_input,\n",
    "            shear_range                = 0.2,\n",
    "            zoom_range                 = 0.2,\n",
    "            validation_split           = 0.4,\n",
    "        )\n",
    "\n",
    "        self.valid_generator        = valid_datagenerator.flow_from_directory(\n",
    "            directory                  = self.config.training_data,\n",
    "            target_size                = self.config.params_image_size[:-1],\n",
    "            batch_size                 = self.config.params_batch_size,\n",
    "            class_mode                 = 'categorical',  \n",
    "            subset                     = 'validation',\n",
    "        )\n",
    "\n",
    "    @staticmethod\n",
    "    def load_model(path : Path) -> tf.keras.Model:\n",
    "        return tf.keras.models.load_model(path)\n",
    "\n",
    "    def evaluation(self):\n",
    "        self.model                   = self.load_model(self.config.path_of_model)\n",
    "        self._valid_generator()\n",
    "        self.score                   = model.evaluate(self.valid_generator)\n",
    "\n",
    "    def save_score(self):\n",
    "        score = {'loss' : self.score[0], 'accuracy' : self.score[1]}\n",
    "        save_json(path = Path('score.json'), data = score)\n",
    "        "
   ]
  },
  {
   "cell_type": "code",
   "execution_count": 7,
   "metadata": {},
   "outputs": [
    {
     "name": "stdout",
     "output_type": "stream",
     "text": [
      "[2023-11-13 01:23:17,961] 31 root - INFO - YAML FILE {path_to_yaml} LOADED SUCCESSFULLY \n",
      "[2023-11-13 01:23:17,963] 31 root - INFO - YAML FILE {path_to_yaml} LOADED SUCCESSFULLY \n",
      "[2023-11-13 01:23:17,965] 47 root - INFO - CREATED DIRECTORY AT : artifacts\n",
      "Found 90 images belonging to 2 classes.\n",
      "5/5 [==============================] - 6s 1s/step - loss: 0.7619 - accuracy: 0.5889\n"
     ]
    }
   ],
   "source": [
    "try:\n",
    "    config         = ConfigurationManager()\n",
    "    val_config     = config.get_validation_config()\n",
    "    evaluation     = Evaluation(val_config)\n",
    "    evaluation.evaluation()\n",
    "    evaluation.save_score()\n",
    "\n",
    "except Exception as e:\n",
    "    logging.exception(CustomException(e,sys))"
   ]
  },
  {
   "cell_type": "code",
   "execution_count": null,
   "metadata": {},
   "outputs": [],
   "source": []
  }
 ],
 "metadata": {
  "kernelspec": {
   "display_name": "poxvision_ven",
   "language": "python",
   "name": "python3"
  },
  "language_info": {
   "codemirror_mode": {
    "name": "ipython",
    "version": 3
   },
   "file_extension": ".py",
   "mimetype": "text/x-python",
   "name": "python",
   "nbconvert_exporter": "python",
   "pygments_lexer": "ipython3",
   "version": "3.11.4"
  }
 },
 "nbformat": 4,
 "nbformat_minor": 2
}
